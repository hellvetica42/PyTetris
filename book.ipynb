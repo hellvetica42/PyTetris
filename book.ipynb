{
 "metadata": {
  "language_info": {
   "codemirror_mode": {
    "name": "ipython",
    "version": 3
   },
   "file_extension": ".py",
   "mimetype": "text/x-python",
   "name": "python",
   "nbconvert_exporter": "python",
   "pygments_lexer": "ipython3",
   "version": "3.7.6-final"
  },
  "orig_nbformat": 2,
  "kernelspec": {
   "name": "Python 3.7.6 64-bit",
   "display_name": "Python 3.7.6 64-bit",
   "metadata": {
    "interpreter": {
     "hash": "0a8f619e37aa1c17473ad954da301acd10701ddbf3eece7e40ab3562410c3d10"
    }
   }
  }
 },
 "nbformat": 4,
 "nbformat_minor": 2,
 "cells": [
  {
   "cell_type": "code",
   "execution_count": null,
   "metadata": {},
   "outputs": [],
   "source": [
    "from tetromino import *\n",
    "from autoplay import *\n",
    "from genetic import *\n",
    "import logging\n",
    "import pickle\n",
    "logging.basicConfig(level=logging.INFO)\n",
    "POP_SIZE = 50"
   ]
  },
  {
   "cell_type": "code",
   "execution_count": null,
   "metadata": {},
   "outputs": [],
   "source": [
    "a = autoplay([5.3,3.75,5.34,5.9,4.7,4.7,4.7,4.7])"
   ]
  },
  {
   "cell_type": "code",
   "execution_count": null,
   "metadata": {},
   "outputs": [],
   "source": [
    "print(a.play())\n",
    "a.reset()"
   ]
  },
  {
   "cell_type": "code",
   "execution_count": null,
   "metadata": {},
   "outputs": [],
   "source": [
    "def runPopulationParalell(pop, th, log):\n",
    "    start = time.time()\n",
    "    scores = []\n",
    "    count = 0\n",
    "\n",
    "    if __name__ == '__main__':\n",
    "        procs = []\n",
    "        results = []\n",
    "        for p in pop:\n",
    "            results.append(multiprocessing.Value('d', 0.0))\n",
    "            procs.append(multiprocessing.Process(target=runSingle, args=(p, results[-1])))\n",
    "\n",
    "        for p in range(len(procs)):\n",
    "            log.info(\"Starting process {0}\".format(p))\n",
    "            procs[p].start()\n",
    "        \n",
    "        for p in range(len(procs)):\n",
    "            procs[p].join()\n",
    "            log.info(\"Process {0} finished with score {1}\".format(p, results[p].value))\n",
    "\n",
    "\n",
    "        scores = [r.value for r in results]\n",
    "\n",
    "\n",
    "\n",
    "    log.info(\"Batch done in: {0} seconds\".format(time.time() - start))\n",
    "    return scores"
   ]
  },
  {
   "cell_type": "code",
   "execution_count": null,
   "metadata": {},
   "outputs": [],
   "source": [
    "def runPopulationParalellPool(pop, th, log):\n",
    "    start = time.time()\n",
    "    scores = []\n",
    "    count = 0\n",
    "\n",
    "    if __name__ == '__main__':\n",
    "        \n",
    "        pool = multiprocessing.Pool(processes=th)\n",
    "        scores = pool.map(runSingleReturn, pop)\n",
    "\n",
    "    log.info(\"Batch done in: {0} seconds\".format(time.time() - start))\n",
    "    return scores"
   ]
  },
  {
   "cell_type": "code",
   "execution_count": null,
   "metadata": {},
   "outputs": [],
   "source": [
    "pop = createPopulation(POP_SIZE)"
   ]
  },
  {
   "cell_type": "code",
   "execution_count": null,
   "metadata": {},
   "outputs": [],
   "source": [
    "lastPop = []\n",
    "\n",
    "pops = []"
   ]
  },
  {
   "cell_type": "code",
   "execution_count": null,
   "metadata": {
    "tags": []
   },
   "outputs": [],
   "source": [
    "popPickle = open(\"population\", 'wb')\n",
    "avgPickle = open(\"avgs\", 'wb')\n",
    "avgsTracking = []\n",
    "for i in range(10):\n",
    "    # scores = runPopulationParalell(pop, 4, logging)\n",
    "    # scores = runPopulationParalellPool(pop, 4, logging)\n",
    "    scores = runPopulation(pop)\n",
    "    # best = getTopFromPopulation(pop, scores, 20)\n",
    "    new = generateWithCrossoverProportional(pop, scores, POP_SIZE)\n",
    "    pops.append(pop)\n",
    "    pickle.dump(pop, popPickle)\n",
    "    lastPop = pop\n",
    "    pop = new\n",
    "    print(\"MAX SCORE: \", max(scores))\n",
    "    avg = sum(scores)/len(scores)\n",
    "    print(\"AVG SCORE: \", avg)\n",
    "    avgsTracking.append(avg)\n",
    "    pickle.dump(avg, avgPickle)"
   ]
  },
  {
   "cell_type": "code",
   "execution_count": null,
   "metadata": {},
   "outputs": [],
   "source": [
    "import pickle\n",
    "popfile = open(\"population\", 'rb')\n",
    "pop = pickle.load(popfile)\n"
   ]
  },
  {
   "cell_type": "code",
   "execution_count": null,
   "metadata": {},
   "outputs": [],
   "source": [
    "print(len(pop))"
   ]
  },
  {
   "cell_type": "code",
   "execution_count": null,
   "metadata": {},
   "outputs": [],
   "source": [
    "b = runPopulationParalellPool(av, 10, logging)"
   ]
  },
  {
   "cell_type": "code",
   "execution_count": null,
   "metadata": {},
   "outputs": [],
   "source": [
    "b"
   ]
  },
  {
   "cell_type": "code",
   "execution_count": null,
   "metadata": {},
   "outputs": [],
   "source": []
  }
 ]
}